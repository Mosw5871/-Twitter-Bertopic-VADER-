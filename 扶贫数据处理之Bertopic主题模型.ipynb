{
 "cells": [
  {
   "cell_type": "code",
   "execution_count": 2,
   "id": "f8a513ef",
   "metadata": {
    "ExecuteTime": {
     "end_time": "2022-07-17T02:29:45.763614Z",
     "start_time": "2022-07-17T02:29:45.758093Z"
    }
   },
   "outputs": [],
   "source": [
    "from bertopic import BERTopic\n",
    "#https://maartengr.github.io/BERTopic/getting_started/quickstart/quickstart.html 详细介绍文档\n",
    "from sklearn.feature_extraction.text import CountVectorizer\n",
    "import pandas as pd\n",
    "myfile = \"/Volumes/时伟SSD512G/0717扶贫数据-已清洗完成-253267.xlsx\""
   ]
  },
  {
   "cell_type": "code",
   "execution_count": 3,
   "id": "c5b2f807",
   "metadata": {
    "ExecuteTime": {
     "end_time": "2022-07-17T02:30:31.805640Z",
     "start_time": "2022-07-17T02:30:00.482109Z"
    },
    "scrolled": true
   },
   "outputs": [
    {
     "data": {
      "text/html": [
       "<div>\n",
       "<style scoped>\n",
       "    .dataframe tbody tr th:only-of-type {\n",
       "        vertical-align: middle;\n",
       "    }\n",
       "\n",
       "    .dataframe tbody tr th {\n",
       "        vertical-align: top;\n",
       "    }\n",
       "\n",
       "    .dataframe thead th {\n",
       "        text-align: right;\n",
       "    }\n",
       "</style>\n",
       "<table border=\"1\" class=\"dataframe\">\n",
       "  <thead>\n",
       "    <tr style=\"text-align: right;\">\n",
       "      <th></th>\n",
       "      <th>Unnamed: 0</th>\n",
       "      <th>date</th>\n",
       "      <th>time</th>\n",
       "      <th>username</th>\n",
       "      <th>place</th>\n",
       "      <th>clean_tweet</th>\n",
       "      <th>mentions</th>\n",
       "      <th>replies_count</th>\n",
       "      <th>retweets_count</th>\n",
       "      <th>likes_count</th>\n",
       "      <th>hashtags</th>\n",
       "    </tr>\n",
       "  </thead>\n",
       "  <tbody>\n",
       "    <tr>\n",
       "      <th>0</th>\n",
       "      <td>0</td>\n",
       "      <td>2013-01-01</td>\n",
       "      <td>19:06:17</td>\n",
       "      <td>rotipeeta</td>\n",
       "      <td>NaN</td>\n",
       "      <td>awww poor help chinese restaurant block tmpt k...</td>\n",
       "      <td>[]</td>\n",
       "      <td>0</td>\n",
       "      <td>0</td>\n",
       "      <td>0</td>\n",
       "      <td>[]</td>\n",
       "    </tr>\n",
       "    <tr>\n",
       "      <th>1</th>\n",
       "      <td>1</td>\n",
       "      <td>2013-01-01</td>\n",
       "      <td>23:13:13</td>\n",
       "      <td>waltydunlop</td>\n",
       "      <td>NaN</td>\n",
       "      <td>afraid thing think saw sky full chinese lanter...</td>\n",
       "      <td>[]</td>\n",
       "      <td>0</td>\n",
       "      <td>0</td>\n",
       "      <td>0</td>\n",
       "      <td>[]</td>\n",
       "    </tr>\n",
       "    <tr>\n",
       "      <th>2</th>\n",
       "      <td>2</td>\n",
       "      <td>2013-01-01</td>\n",
       "      <td>05:13:11</td>\n",
       "      <td>mrjintheuk</td>\n",
       "      <td>NaN</td>\n",
       "      <td>battle damage clear tonight massive chinese me...</td>\n",
       "      <td>[]</td>\n",
       "      <td>0</td>\n",
       "      <td>0</td>\n",
       "      <td>0</td>\n",
       "      <td>[]</td>\n",
       "    </tr>\n",
       "    <tr>\n",
       "      <th>3</th>\n",
       "      <td>3</td>\n",
       "      <td>2013-01-01</td>\n",
       "      <td>01:29:28</td>\n",
       "      <td>financenewscast</td>\n",
       "      <td>NaN</td>\n",
       "      <td>china economy end 2012 high 200m still live po...</td>\n",
       "      <td>[]</td>\n",
       "      <td>0</td>\n",
       "      <td>0</td>\n",
       "      <td>0</td>\n",
       "      <td>[]</td>\n",
       "    </tr>\n",
       "    <tr>\n",
       "      <th>4</th>\n",
       "      <td>4</td>\n",
       "      <td>2013-01-01</td>\n",
       "      <td>05:21:28</td>\n",
       "      <td>warr1979</td>\n",
       "      <td>NaN</td>\n",
       "      <td>welcome another rescission government know mak...</td>\n",
       "      <td>[]</td>\n",
       "      <td>0</td>\n",
       "      <td>0</td>\n",
       "      <td>0</td>\n",
       "      <td>[]</td>\n",
       "    </tr>\n",
       "    <tr>\n",
       "      <th>...</th>\n",
       "      <td>...</td>\n",
       "      <td>...</td>\n",
       "      <td>...</td>\n",
       "      <td>...</td>\n",
       "      <td>...</td>\n",
       "      <td>...</td>\n",
       "      <td>...</td>\n",
       "      <td>...</td>\n",
       "      <td>...</td>\n",
       "      <td>...</td>\n",
       "      <td>...</td>\n",
       "    </tr>\n",
       "    <tr>\n",
       "      <th>253262</th>\n",
       "      <td>253262</td>\n",
       "      <td>2021-12-31</td>\n",
       "      <td>13:58:29</td>\n",
       "      <td>ozzey_h</td>\n",
       "      <td>NaN</td>\n",
       "      <td>guarantee chinese government care people lift ...</td>\n",
       "      <td>[]</td>\n",
       "      <td>0</td>\n",
       "      <td>0</td>\n",
       "      <td>0</td>\n",
       "      <td>[]</td>\n",
       "    </tr>\n",
       "    <tr>\n",
       "      <th>253263</th>\n",
       "      <td>253263</td>\n",
       "      <td>2021-12-31</td>\n",
       "      <td>17:25:30</td>\n",
       "      <td>redand51ue</td>\n",
       "      <td>NaN</td>\n",
       "      <td>shed crocodile tear chinese people force pover...</td>\n",
       "      <td>[]</td>\n",
       "      <td>0</td>\n",
       "      <td>0</td>\n",
       "      <td>0</td>\n",
       "      <td>['ccp', 'emperorxi', 'ccp', 'commonprosperity']</td>\n",
       "    </tr>\n",
       "    <tr>\n",
       "      <th>253264</th>\n",
       "      <td>253264</td>\n",
       "      <td>2021-12-31</td>\n",
       "      <td>20:06:07</td>\n",
       "      <td>ray44758650</td>\n",
       "      <td>NaN</td>\n",
       "      <td>wrong deng wisely take ccp way chinese people ...</td>\n",
       "      <td>[]</td>\n",
       "      <td>0</td>\n",
       "      <td>0</td>\n",
       "      <td>0</td>\n",
       "      <td>[]</td>\n",
       "    </tr>\n",
       "    <tr>\n",
       "      <th>253265</th>\n",
       "      <td>253265</td>\n",
       "      <td>2021-12-31</td>\n",
       "      <td>21:52:54</td>\n",
       "      <td>chineseemb_uga</td>\n",
       "      <td>NaN</td>\n",
       "      <td>excerpt president jinping 2022 new year addres...</td>\n",
       "      <td>[]</td>\n",
       "      <td>1</td>\n",
       "      <td>2</td>\n",
       "      <td>9</td>\n",
       "      <td>[]</td>\n",
       "    </tr>\n",
       "    <tr>\n",
       "      <th>253266</th>\n",
       "      <td>253266</td>\n",
       "      <td>2021-12-31</td>\n",
       "      <td>11:50:00</td>\n",
       "      <td>xismoments</td>\n",
       "      <td>NaN</td>\n",
       "      <td>president xijinping declare complete victory f...</td>\n",
       "      <td>[]</td>\n",
       "      <td>3</td>\n",
       "      <td>12</td>\n",
       "      <td>42</td>\n",
       "      <td>['xijinping']</td>\n",
       "    </tr>\n",
       "  </tbody>\n",
       "</table>\n",
       "<p>253267 rows × 11 columns</p>\n",
       "</div>"
      ],
      "text/plain": [
       "        Unnamed: 0        date      time         username place  \\\n",
       "0                0  2013-01-01  19:06:17        rotipeeta   NaN   \n",
       "1                1  2013-01-01  23:13:13      waltydunlop   NaN   \n",
       "2                2  2013-01-01  05:13:11       mrjintheuk   NaN   \n",
       "3                3  2013-01-01  01:29:28  financenewscast   NaN   \n",
       "4                4  2013-01-01  05:21:28         warr1979   NaN   \n",
       "...            ...         ...       ...              ...   ...   \n",
       "253262      253262  2021-12-31  13:58:29          ozzey_h   NaN   \n",
       "253263      253263  2021-12-31  17:25:30       redand51ue   NaN   \n",
       "253264      253264  2021-12-31  20:06:07      ray44758650   NaN   \n",
       "253265      253265  2021-12-31  21:52:54   chineseemb_uga   NaN   \n",
       "253266      253266  2021-12-31  11:50:00       xismoments   NaN   \n",
       "\n",
       "                                              clean_tweet mentions  \\\n",
       "0       awww poor help chinese restaurant block tmpt k...       []   \n",
       "1       afraid thing think saw sky full chinese lanter...       []   \n",
       "2       battle damage clear tonight massive chinese me...       []   \n",
       "3       china economy end 2012 high 200m still live po...       []   \n",
       "4       welcome another rescission government know mak...       []   \n",
       "...                                                   ...      ...   \n",
       "253262  guarantee chinese government care people lift ...       []   \n",
       "253263  shed crocodile tear chinese people force pover...       []   \n",
       "253264  wrong deng wisely take ccp way chinese people ...       []   \n",
       "253265  excerpt president jinping 2022 new year addres...       []   \n",
       "253266  president xijinping declare complete victory f...       []   \n",
       "\n",
       "        replies_count  retweets_count  likes_count  \\\n",
       "0                   0               0            0   \n",
       "1                   0               0            0   \n",
       "2                   0               0            0   \n",
       "3                   0               0            0   \n",
       "4                   0               0            0   \n",
       "...               ...             ...          ...   \n",
       "253262              0               0            0   \n",
       "253263              0               0            0   \n",
       "253264              0               0            0   \n",
       "253265              1               2            9   \n",
       "253266              3              12           42   \n",
       "\n",
       "                                               hashtags  \n",
       "0                                                    []  \n",
       "1                                                    []  \n",
       "2                                                    []  \n",
       "3                                                    []  \n",
       "4                                                    []  \n",
       "...                                                 ...  \n",
       "253262                                               []  \n",
       "253263  ['ccp', 'emperorxi', 'ccp', 'commonprosperity']  \n",
       "253264                                               []  \n",
       "253265                                               []  \n",
       "253266                                    ['xijinping']  \n",
       "\n",
       "[253267 rows x 11 columns]"
      ]
     },
     "execution_count": 3,
     "metadata": {},
     "output_type": "execute_result"
    }
   ],
   "source": [
    "df = pd.read_excel(myfile) #读取excel文件\n",
    "df"
   ]
  },
  {
   "cell_type": "code",
   "execution_count": 4,
   "id": "ff71a668",
   "metadata": {
    "ExecuteTime": {
     "end_time": "2022-07-17T02:33:09.134375Z",
     "start_time": "2022-07-17T02:33:09.130636Z"
    }
   },
   "outputs": [],
   "source": [
    "# Train BERTopic with a custom CountVectorizer\n",
    "vectorizer_model = CountVectorizer(ngram_range=(1, 2), min_df=10)"
   ]
  },
  {
   "cell_type": "code",
   "execution_count": null,
   "id": "9f97393a",
   "metadata": {},
   "outputs": [],
   "source": [
    "'''\n",
    "单独把有进度条的那一部分，也就是词嵌入的转换，提取出来，这样之后就不用在花一个多小时重新算一遍了，节省时间\n",
    "使用形式：topics, probs = topic_model.fit_transform(docs, embeddings)，embeddings直接载入参数部分\n",
    "\n",
    "from sklearn.datasets import fetch_20newsgroups\n",
    "from sentence_transformers import SentenceTransformer\n",
    "from bertopic import BERTopic\n",
    "\n",
    "# Prepare embeddings\n",
    "docs = fetch_20newsgroups(subset='all',  remove=('headers', 'footers', 'quotes'))['data']\n",
    "sentence_model = SentenceTransformer(\"all-MiniLM-L6-v2\")\n",
    "embeddings = sentence_model.encode(docs, show_progress_bar=False)\n",
    "\n",
    "# Train our topic model using our pre-trained sentence-transformers embeddings\n",
    "topic_model = BERTopic()\n",
    "topics, probs = topic_model.fit_transform(docs, embeddings)\n",
    "\n",
    "'''"
   ]
  },
  {
   "cell_type": "code",
   "execution_count": 5,
   "id": "1b1f6a63",
   "metadata": {
    "ExecuteTime": {
     "end_time": "2022-07-17T03:19:38.059063Z",
     "start_time": "2022-07-17T02:33:26.862567Z"
    },
    "scrolled": true
   },
   "outputs": [
    {
     "data": {
      "application/vnd.jupyter.widget-view+json": {
       "model_id": "464c05cdcfc44bc78ab1613864ef200b",
       "version_major": 2,
       "version_minor": 0
      },
      "text/plain": [
       "HBox(children=(FloatProgress(value=0.0, description='Batches', max=7915.0, style=ProgressStyle(description_wid…"
      ]
     },
     "metadata": {},
     "output_type": "display_data"
    },
    {
     "name": "stdout",
     "output_type": "stream",
     "text": [
      "\n"
     ]
    },
    {
     "name": "stderr",
     "output_type": "stream",
     "text": [
      "2022-07-17 11:11:58,654 - BERTopic - Transformed documents to Embeddings\n",
      "OMP: Info #271: omp_set_nested routine deprecated, please use omp_set_max_active_levels instead.\n",
      "2022-07-17 11:18:33,599 - BERTopic - Reduced dimensionality\n"
     ]
    },
    {
     "name": "stdout",
     "output_type": "stream",
     "text": [
      "huggingface/tokenizers: The current process just got forked, after parallelism has already been used. Disabling parallelism to avoid deadlocks...\n",
      "To disable this warning, you can either:\n",
      "\t- Avoid using `tokenizers` before the fork if possible\n",
      "\t- Explicitly set the environment variable TOKENIZERS_PARALLELISM=(true | false)\n",
      "huggingface/tokenizers: The current process just got forked, after parallelism has already been used. Disabling parallelism to avoid deadlocks...\n",
      "To disable this warning, you can either:\n",
      "\t- Avoid using `tokenizers` before the fork if possible\n",
      "\t- Explicitly set the environment variable TOKENIZERS_PARALLELISM=(true | false)\n",
      "huggingface/tokenizers: The current process just got forked, after parallelism has already been used. Disabling parallelism to avoid deadlocks...\n",
      "To disable this warning, you can either:\n",
      "\t- Avoid using `tokenizers` before the fork if possible\n",
      "\t- Explicitly set the environment variable TOKENIZERS_PARALLELISM=(true | false)\n",
      "huggingface/tokenizers: The current process just got forked, after parallelism has already been used. Disabling parallelism to avoid deadlocks...\n",
      "To disable this warning, you can either:\n",
      "\t- Avoid using `tokenizers` before the fork if possible\n",
      "\t- Explicitly set the environment variable TOKENIZERS_PARALLELISM=(true | false)\n",
      "huggingface/tokenizers: The current process just got forked, after parallelism has already been used. Disabling parallelism to avoid deadlocks...\n",
      "To disable this warning, you can either:\n",
      "\t- Avoid using `tokenizers` before the fork if possible\n",
      "\t- Explicitly set the environment variable TOKENIZERS_PARALLELISM=(true | false)\n"
     ]
    },
    {
     "name": "stderr",
     "output_type": "stream",
     "text": [
      "2022-07-17 11:19:13,785 - BERTopic - Clustered reduced embeddings\n"
     ]
    }
   ],
   "source": [
    "topic_model = BERTopic(vectorizer_model=vectorizer_model, language=\"english\",\n",
    "                       top_n_words=10, min_topic_size=50, \n",
    "                       calculate_probabilities=False, verbose=True, low_memory=True)\n",
    "\n",
    "topics, probs = topic_model.fit_transform(df['clean_tweet'])"
   ]
  },
  {
   "cell_type": "code",
   "execution_count": 39,
   "id": "742b2cd4",
   "metadata": {
    "ExecuteTime": {
     "end_time": "2022-07-17T08:30:04.768810Z",
     "start_time": "2022-07-17T08:30:04.762857Z"
    }
   },
   "outputs": [
    {
     "data": {
      "text/plain": [
       "array([0.32461287, 0.        , 0.76724741, ..., 1.        , 0.69705595,\n",
       "       0.30111176])"
      ]
     },
     "execution_count": 39,
     "metadata": {},
     "output_type": "execute_result"
    }
   ],
   "source": [
    "#len(topics)\n",
    "probs"
   ]
  },
  {
   "cell_type": "code",
   "execution_count": 6,
   "id": "a25c2edb",
   "metadata": {
    "ExecuteTime": {
     "end_time": "2022-07-17T03:21:06.914109Z",
     "start_time": "2022-07-17T03:21:06.882024Z"
    }
   },
   "outputs": [
    {
     "data": {
      "text/html": [
       "<div>\n",
       "<style scoped>\n",
       "    .dataframe tbody tr th:only-of-type {\n",
       "        vertical-align: middle;\n",
       "    }\n",
       "\n",
       "    .dataframe tbody tr th {\n",
       "        vertical-align: top;\n",
       "    }\n",
       "\n",
       "    .dataframe thead th {\n",
       "        text-align: right;\n",
       "    }\n",
       "</style>\n",
       "<table border=\"1\" class=\"dataframe\">\n",
       "  <thead>\n",
       "    <tr style=\"text-align: right;\">\n",
       "      <th></th>\n",
       "      <th>Topic</th>\n",
       "      <th>Count</th>\n",
       "      <th>Name</th>\n",
       "    </tr>\n",
       "  </thead>\n",
       "  <tbody>\n",
       "    <tr>\n",
       "      <th>0</th>\n",
       "      <td>-1</td>\n",
       "      <td>133291</td>\n",
       "      <td>-1_china_poor_people_chinese</td>\n",
       "    </tr>\n",
       "    <tr>\n",
       "      <th>1</th>\n",
       "      <td>0</td>\n",
       "      <td>5686</td>\n",
       "      <td>0_pakistan_pak_kashmir_modi</td>\n",
       "    </tr>\n",
       "    <tr>\n",
       "      <th>2</th>\n",
       "      <td>1</td>\n",
       "      <td>4342</td>\n",
       "      <td>1_india_china india_india china_indian</td>\n",
       "    </tr>\n",
       "    <tr>\n",
       "      <th>3</th>\n",
       "      <td>2</td>\n",
       "      <td>4175</td>\n",
       "      <td>2_capitalism_socialism_capitalist_communism</td>\n",
       "    </tr>\n",
       "    <tr>\n",
       "      <th>4</th>\n",
       "      <td>3</td>\n",
       "      <td>3171</td>\n",
       "      <td>3_africa_african_china africa_africa china</td>\n",
       "    </tr>\n",
       "    <tr>\n",
       "      <th>...</th>\n",
       "      <td>...</td>\n",
       "      <td>...</td>\n",
       "      <td>...</td>\n",
       "    </tr>\n",
       "    <tr>\n",
       "      <th>439</th>\n",
       "      <td>438</td>\n",
       "      <td>51</td>\n",
       "      <td>438_assistance china_work poverty_assistance_p...</td>\n",
       "    </tr>\n",
       "    <tr>\n",
       "      <th>440</th>\n",
       "      <td>439</td>\n",
       "      <td>51</td>\n",
       "      <td>439_oil_china oil_poor mark_discipline</td>\n",
       "    </tr>\n",
       "    <tr>\n",
       "      <th>441</th>\n",
       "      <td>440</td>\n",
       "      <td>51</td>\n",
       "      <td>440_china reach_milestone_end absolute_poverty...</td>\n",
       "    </tr>\n",
       "    <tr>\n",
       "      <th>442</th>\n",
       "      <td>441</td>\n",
       "      <td>50</td>\n",
       "      <td>441_aid_foreign aid_get aid_china aid</td>\n",
       "    </tr>\n",
       "    <tr>\n",
       "      <th>443</th>\n",
       "      <td>442</td>\n",
       "      <td>50</td>\n",
       "      <td>442_shark_fin_soup_park</td>\n",
       "    </tr>\n",
       "  </tbody>\n",
       "</table>\n",
       "<p>444 rows × 3 columns</p>\n",
       "</div>"
      ],
      "text/plain": [
       "     Topic   Count                                               Name\n",
       "0       -1  133291                       -1_china_poor_people_chinese\n",
       "1        0    5686                        0_pakistan_pak_kashmir_modi\n",
       "2        1    4342             1_india_china india_india china_indian\n",
       "3        2    4175        2_capitalism_socialism_capitalist_communism\n",
       "4        3    3171         3_africa_african_china africa_africa china\n",
       "..     ...     ...                                                ...\n",
       "439    438      51  438_assistance china_work poverty_assistance_p...\n",
       "440    439      51             439_oil_china oil_poor mark_discipline\n",
       "441    440      51  440_china reach_milestone_end absolute_poverty...\n",
       "442    441      50              441_aid_foreign aid_get aid_china aid\n",
       "443    442      50                            442_shark_fin_soup_park\n",
       "\n",
       "[444 rows x 3 columns]"
      ]
     },
     "execution_count": 6,
     "metadata": {},
     "output_type": "execute_result"
    }
   ],
   "source": [
    "freq = topic_model.get_topic_info()\n",
    "freq"
   ]
  },
  {
   "cell_type": "code",
   "execution_count": 40,
   "id": "6c539d65",
   "metadata": {
    "ExecuteTime": {
     "end_time": "2022-07-17T08:37:57.517262Z",
     "start_time": "2022-07-17T08:37:57.402589Z"
    }
   },
   "outputs": [],
   "source": [
    "freq.to_excel(\"/Volumes/时伟SSD512G/topic_info442mac.xlsx\")"
   ]
  },
  {
   "cell_type": "code",
   "execution_count": 41,
   "id": "02313111",
   "metadata": {
    "ExecuteTime": {
     "end_time": "2022-07-17T08:38:36.924200Z",
     "start_time": "2022-07-17T08:38:36.761842Z"
    }
   },
   "outputs": [
    {
     "name": "stderr",
     "output_type": "stream",
     "text": [
      "/opt/anaconda3/lib/python3.9/site-packages/pandas/core/indexing.py:1667: PerformanceWarning:\n",
      "\n",
      "DataFrame is highly fragmented.  This is usually the result of calling `frame.insert` many times, which has poor performance.  Consider joining all columns at once using pd.concat(axis=1) instead.  To get a de-fragmented frame, use `newframe = frame.copy()`\n",
      "\n"
     ]
    }
   ],
   "source": [
    "df_topic = pd.DataFrame()\n",
    "for i in range(len(freq)):\n",
    "    df_topic.loc[:, i] = topic_model.get_topic(i)"
   ]
  },
  {
   "cell_type": "code",
   "execution_count": 42,
   "id": "ea68e921",
   "metadata": {
    "ExecuteTime": {
     "end_time": "2022-07-17T08:39:11.170058Z",
     "start_time": "2022-07-17T08:39:11.012766Z"
    }
   },
   "outputs": [],
   "source": [
    "df_topic.to_excel(\"/Volumes/时伟SSD512G/topic_martix442mac.xlsx\")"
   ]
  },
  {
   "cell_type": "code",
   "execution_count": 8,
   "id": "ec11c890",
   "metadata": {
    "ExecuteTime": {
     "end_time": "2022-07-17T03:22:53.640501Z",
     "start_time": "2022-07-17T03:22:53.631973Z"
    },
    "scrolled": true
   },
   "outputs": [
    {
     "data": {
      "text/plain": [
       "[('india', 0.021686779879725535),\n",
       " ('china india', 0.010015479544669581),\n",
       " ('india china', 0.009115779236889412),\n",
       " ('indian', 0.00902145167637743),\n",
       " ('india poor', 0.005976396305196284),\n",
       " ('poverty india', 0.0057516937300276525),\n",
       " ('poor india', 0.0049984194378309855),\n",
       " ('growth', 0.004248531338377145),\n",
       " ('1962', 0.004095391823880741),\n",
       " ('population', 0.004041270476868729)]"
      ]
     },
     "execution_count": 8,
     "metadata": {},
     "output_type": "execute_result"
    }
   ],
   "source": [
    "topic_model.get_topic(1)"
   ]
  },
  {
   "cell_type": "code",
   "execution_count": 25,
   "id": "6893bac2",
   "metadata": {
    "ExecuteTime": {
     "end_time": "2022-07-17T07:05:18.746737Z",
     "start_time": "2022-07-17T07:05:18.733519Z"
    },
    "scrolled": true
   },
   "outputs": [
    {
     "name": "stdout",
     "output_type": "stream",
     "text": [
      "['imran khan announce subsidy scheme poor imf loan money give dole maybe get pay china military service afghanistan india china', 'china vow help pakistan eradicate poverty create job read arynews', 'please add list achievement nehru bharat divide religious ground nehru 1947 permanent seat offer china akshai chin area give china nehru excellent poor clothing ammunition provide military 1962']\n"
     ]
    }
   ],
   "source": [
    "representative_docs = topic_model.get_representative_docs(0)\n",
    "print(representative_docs)"
   ]
  },
  {
   "cell_type": "code",
   "execution_count": 26,
   "id": "36fb5a1e",
   "metadata": {
    "ExecuteTime": {
     "end_time": "2022-07-17T07:05:23.356904Z",
     "start_time": "2022-07-17T07:05:23.352393Z"
    }
   },
   "outputs": [
    {
     "name": "stdout",
     "output_type": "stream",
     "text": [
      "5686\n"
     ]
    }
   ],
   "source": [
    "frequency = topic_model.get_topic_freq(0)\n",
    "print(frequency)"
   ]
  },
  {
   "cell_type": "code",
   "execution_count": 48,
   "id": "ae9b8c14",
   "metadata": {
    "ExecuteTime": {
     "end_time": "2022-07-16T14:45:58.974932Z",
     "start_time": "2022-07-16T14:45:58.971129Z"
    }
   },
   "outputs": [],
   "source": [
    "#all_topics = topic_model.get_topics()\n",
    "#print(all_topics)"
   ]
  },
  {
   "cell_type": "code",
   "execution_count": 9,
   "id": "a549cee4",
   "metadata": {
    "ExecuteTime": {
     "end_time": "2022-07-17T03:25:01.621658Z",
     "start_time": "2022-07-17T03:24:33.435951Z"
    }
   },
   "outputs": [
    {
     "name": "stderr",
     "output_type": "stream",
     "text": [
      "/opt/anaconda3/lib/python3.9/site-packages/scipy/sparse/_index.py:125: SparseEfficiencyWarning: Changing the sparsity structure of a csr_matrix is expensive. lil_matrix is more efficient.\n",
      "  self._set_arrayXarray(i, j, x)\n"
     ]
    }
   ],
   "source": [
    "#BERTopic.load(\"my_model\")\n",
    "topic_model.save(\"/Volumes/时伟SSD512G/bertopic_model_253267_0717\")"
   ]
  },
  {
   "cell_type": "code",
   "execution_count": null,
   "id": "efd87863",
   "metadata": {
    "ExecuteTime": {
     "start_time": "2022-07-16T01:22:57.902Z"
    }
   },
   "outputs": [],
   "source": [
    "#topic_model.get_topic(3)"
   ]
  },
  {
   "cell_type": "code",
   "execution_count": 17,
   "id": "db448368",
   "metadata": {
    "ExecuteTime": {
     "end_time": "2022-07-17T04:03:47.813555Z",
     "start_time": "2022-07-17T04:03:47.807259Z"
    }
   },
   "outputs": [
    {
     "data": {
      "text/plain": [
       "[('recovers', 0.28544684558924993),\n",
       " ('misuse poverty', 0.2768466208664615),\n",
       " ('misuse', 0.21183019714155774),\n",
       " ('relief fund', 0.18164495443262182),\n",
       " ('xinhua', 0.17234439106067426),\n",
       " ('xinhua china', 0.1716879792173356),\n",
       " ('poverty relief', 0.11546626706526578),\n",
       " ('fund', 0.103156619334901),\n",
       " ('relief', 0.09970013560678065),\n",
       " ('tech china', 0.0442148906536929)]"
      ]
     },
     "execution_count": 17,
     "metadata": {},
     "output_type": "execute_result"
    }
   ],
   "source": [
    "topic_model.get_topic(256)"
   ]
  },
  {
   "cell_type": "code",
   "execution_count": null,
   "id": "0f7aeb8e",
   "metadata": {
    "ExecuteTime": {
     "start_time": "2022-07-16T01:22:57.905Z"
    }
   },
   "outputs": [],
   "source": [
    "#topic_model.get_topic(1)"
   ]
  },
  {
   "cell_type": "code",
   "execution_count": 28,
   "id": "55dcb72c",
   "metadata": {
    "ExecuteTime": {
     "end_time": "2022-07-17T07:10:37.150321Z",
     "start_time": "2022-07-17T07:10:37.146770Z"
    },
    "scrolled": false
   },
   "outputs": [],
   "source": [
    "#topic_model.visualize_topics()"
   ]
  },
  {
   "cell_type": "code",
   "execution_count": 23,
   "id": "4396dada",
   "metadata": {
    "ExecuteTime": {
     "end_time": "2022-07-16T14:11:46.039863Z",
     "start_time": "2022-07-16T14:11:46.036055Z"
    }
   },
   "outputs": [],
   "source": [
    "#topic_model.visualize_barchart()"
   ]
  },
  {
   "cell_type": "code",
   "execution_count": null,
   "id": "c7ac01d7",
   "metadata": {
    "ExecuteTime": {
     "start_time": "2022-07-16T01:22:57.908Z"
    }
   },
   "outputs": [],
   "source": [
    "#topic_model.visualize_distribution(probs[200], min_probability=0.0002)"
   ]
  },
  {
   "cell_type": "code",
   "execution_count": 18,
   "id": "4a1f258b",
   "metadata": {
    "ExecuteTime": {
     "end_time": "2022-07-17T04:22:07.886529Z",
     "start_time": "2022-07-17T04:22:07.875364Z"
    },
    "scrolled": false
   },
   "outputs": [],
   "source": [
    "#topic_model.visualize_hierarchy()"
   ]
  },
  {
   "cell_type": "code",
   "execution_count": 13,
   "id": "658d8c8a",
   "metadata": {
    "ExecuteTime": {
     "end_time": "2022-07-17T03:32:47.239029Z",
     "start_time": "2022-07-17T03:32:47.235620Z"
    },
    "scrolled": false
   },
   "outputs": [],
   "source": [
    "#topic_model.visualize_heatmap(n_clusters=10, width=1000, height=1000)"
   ]
  },
  {
   "cell_type": "code",
   "execution_count": null,
   "id": "30e0586e",
   "metadata": {
    "ExecuteTime": {
     "start_time": "2022-07-16T01:22:57.912Z"
    }
   },
   "outputs": [],
   "source": [
    "#topic_model.visualize_term_rank()"
   ]
  },
  {
   "cell_type": "code",
   "execution_count": 35,
   "id": "359a8f49",
   "metadata": {
    "ExecuteTime": {
     "end_time": "2022-07-16T14:29:43.027715Z",
     "start_time": "2022-07-16T14:29:43.024967Z"
    }
   },
   "outputs": [],
   "source": [
    "#similar_topics, similarity = topic_model.find_topics(\"zhaolijian\", top_n=5)\n",
    "#print(similar_topics)\n",
    "#print(similarity)"
   ]
  },
  {
   "cell_type": "code",
   "execution_count": 36,
   "id": "717b980c",
   "metadata": {
    "ExecuteTime": {
     "end_time": "2022-07-16T14:29:45.726180Z",
     "start_time": "2022-07-16T14:29:45.721799Z"
    }
   },
   "outputs": [],
   "source": [
    "#topic_model.get_topic(31)"
   ]
  },
  {
   "cell_type": "code",
   "execution_count": 43,
   "id": "f5e7d7d3",
   "metadata": {
    "ExecuteTime": {
     "end_time": "2022-07-17T08:46:06.589488Z",
     "start_time": "2022-07-17T08:45:37.675394Z"
    }
   },
   "outputs": [
    {
     "name": "stderr",
     "output_type": "stream",
     "text": [
      "20it [00:21,  1.09s/it]\n"
     ]
    }
   ],
   "source": [
    "topics_over_time = topic_model.topics_over_time(df['clean_tweet'], topics, df['date'], \n",
    "                                                global_tuning=False, evolution_tuning=True, nr_bins=20)"
   ]
  },
  {
   "cell_type": "code",
   "execution_count": 45,
   "id": "532d9e80",
   "metadata": {
    "ExecuteTime": {
     "end_time": "2022-07-17T08:47:50.547238Z",
     "start_time": "2022-07-17T08:47:50.543338Z"
    }
   },
   "outputs": [],
   "source": [
    "#topic_model.visualize_topics_over_time(topics_over_time, top_n_topics=20)"
   ]
  },
  {
   "cell_type": "code",
   "execution_count": 47,
   "id": "ae77d5e5",
   "metadata": {
    "ExecuteTime": {
     "end_time": "2022-07-17T08:48:55.821121Z",
     "start_time": "2022-07-17T08:48:55.762063Z"
    }
   },
   "outputs": [],
   "source": [
    "df.insert(loc=5, column='topic', value=topics)"
   ]
  },
  {
   "cell_type": "code",
   "execution_count": 48,
   "id": "a513f69f",
   "metadata": {
    "ExecuteTime": {
     "end_time": "2022-07-17T08:49:02.706352Z",
     "start_time": "2022-07-17T08:49:02.685780Z"
    }
   },
   "outputs": [
    {
     "data": {
      "text/html": [
       "<div>\n",
       "<style scoped>\n",
       "    .dataframe tbody tr th:only-of-type {\n",
       "        vertical-align: middle;\n",
       "    }\n",
       "\n",
       "    .dataframe tbody tr th {\n",
       "        vertical-align: top;\n",
       "    }\n",
       "\n",
       "    .dataframe thead th {\n",
       "        text-align: right;\n",
       "    }\n",
       "</style>\n",
       "<table border=\"1\" class=\"dataframe\">\n",
       "  <thead>\n",
       "    <tr style=\"text-align: right;\">\n",
       "      <th></th>\n",
       "      <th>Unnamed: 0</th>\n",
       "      <th>date</th>\n",
       "      <th>time</th>\n",
       "      <th>username</th>\n",
       "      <th>place</th>\n",
       "      <th>topic</th>\n",
       "      <th>clean_tweet</th>\n",
       "      <th>mentions</th>\n",
       "      <th>replies_count</th>\n",
       "      <th>retweets_count</th>\n",
       "      <th>likes_count</th>\n",
       "      <th>hashtags</th>\n",
       "    </tr>\n",
       "  </thead>\n",
       "  <tbody>\n",
       "    <tr>\n",
       "      <th>0</th>\n",
       "      <td>0</td>\n",
       "      <td>2013-01-01</td>\n",
       "      <td>19:06:17</td>\n",
       "      <td>rotipeeta</td>\n",
       "      <td>NaN</td>\n",
       "      <td>9</td>\n",
       "      <td>awww poor help chinese restaurant block tmpt k...</td>\n",
       "      <td>[]</td>\n",
       "      <td>0</td>\n",
       "      <td>0</td>\n",
       "      <td>0</td>\n",
       "      <td>[]</td>\n",
       "    </tr>\n",
       "    <tr>\n",
       "      <th>1</th>\n",
       "      <td>1</td>\n",
       "      <td>2013-01-01</td>\n",
       "      <td>23:13:13</td>\n",
       "      <td>waltydunlop</td>\n",
       "      <td>NaN</td>\n",
       "      <td>-1</td>\n",
       "      <td>afraid thing think saw sky full chinese lanter...</td>\n",
       "      <td>[]</td>\n",
       "      <td>0</td>\n",
       "      <td>0</td>\n",
       "      <td>0</td>\n",
       "      <td>[]</td>\n",
       "    </tr>\n",
       "    <tr>\n",
       "      <th>2</th>\n",
       "      <td>2</td>\n",
       "      <td>2013-01-01</td>\n",
       "      <td>05:13:11</td>\n",
       "      <td>mrjintheuk</td>\n",
       "      <td>NaN</td>\n",
       "      <td>9</td>\n",
       "      <td>battle damage clear tonight massive chinese me...</td>\n",
       "      <td>[]</td>\n",
       "      <td>0</td>\n",
       "      <td>0</td>\n",
       "      <td>0</td>\n",
       "      <td>[]</td>\n",
       "    </tr>\n",
       "    <tr>\n",
       "      <th>3</th>\n",
       "      <td>3</td>\n",
       "      <td>2013-01-01</td>\n",
       "      <td>01:29:28</td>\n",
       "      <td>financenewscast</td>\n",
       "      <td>NaN</td>\n",
       "      <td>-1</td>\n",
       "      <td>china economy end 2012 high 200m still live po...</td>\n",
       "      <td>[]</td>\n",
       "      <td>0</td>\n",
       "      <td>0</td>\n",
       "      <td>0</td>\n",
       "      <td>[]</td>\n",
       "    </tr>\n",
       "    <tr>\n",
       "      <th>4</th>\n",
       "      <td>4</td>\n",
       "      <td>2013-01-01</td>\n",
       "      <td>05:21:28</td>\n",
       "      <td>warr1979</td>\n",
       "      <td>NaN</td>\n",
       "      <td>-1</td>\n",
       "      <td>welcome another rescission government know mak...</td>\n",
       "      <td>[]</td>\n",
       "      <td>0</td>\n",
       "      <td>0</td>\n",
       "      <td>0</td>\n",
       "      <td>[]</td>\n",
       "    </tr>\n",
       "    <tr>\n",
       "      <th>...</th>\n",
       "      <td>...</td>\n",
       "      <td>...</td>\n",
       "      <td>...</td>\n",
       "      <td>...</td>\n",
       "      <td>...</td>\n",
       "      <td>...</td>\n",
       "      <td>...</td>\n",
       "      <td>...</td>\n",
       "      <td>...</td>\n",
       "      <td>...</td>\n",
       "      <td>...</td>\n",
       "      <td>...</td>\n",
       "    </tr>\n",
       "    <tr>\n",
       "      <th>253262</th>\n",
       "      <td>253262</td>\n",
       "      <td>2021-12-31</td>\n",
       "      <td>13:58:29</td>\n",
       "      <td>ozzey_h</td>\n",
       "      <td>NaN</td>\n",
       "      <td>14</td>\n",
       "      <td>guarantee chinese government care people lift ...</td>\n",
       "      <td>[]</td>\n",
       "      <td>0</td>\n",
       "      <td>0</td>\n",
       "      <td>0</td>\n",
       "      <td>[]</td>\n",
       "    </tr>\n",
       "    <tr>\n",
       "      <th>253263</th>\n",
       "      <td>253263</td>\n",
       "      <td>2021-12-31</td>\n",
       "      <td>17:25:30</td>\n",
       "      <td>redand51ue</td>\n",
       "      <td>NaN</td>\n",
       "      <td>4</td>\n",
       "      <td>shed crocodile tear chinese people force pover...</td>\n",
       "      <td>[]</td>\n",
       "      <td>0</td>\n",
       "      <td>0</td>\n",
       "      <td>0</td>\n",
       "      <td>['ccp', 'emperorxi', 'ccp', 'commonprosperity']</td>\n",
       "    </tr>\n",
       "    <tr>\n",
       "      <th>253264</th>\n",
       "      <td>253264</td>\n",
       "      <td>2021-12-31</td>\n",
       "      <td>20:06:07</td>\n",
       "      <td>ray44758650</td>\n",
       "      <td>NaN</td>\n",
       "      <td>4</td>\n",
       "      <td>wrong deng wisely take ccp way chinese people ...</td>\n",
       "      <td>[]</td>\n",
       "      <td>0</td>\n",
       "      <td>0</td>\n",
       "      <td>0</td>\n",
       "      <td>[]</td>\n",
       "    </tr>\n",
       "    <tr>\n",
       "      <th>253265</th>\n",
       "      <td>253265</td>\n",
       "      <td>2021-12-31</td>\n",
       "      <td>21:52:54</td>\n",
       "      <td>chineseemb_uga</td>\n",
       "      <td>NaN</td>\n",
       "      <td>17</td>\n",
       "      <td>excerpt president jinping 2022 new year addres...</td>\n",
       "      <td>[]</td>\n",
       "      <td>1</td>\n",
       "      <td>2</td>\n",
       "      <td>9</td>\n",
       "      <td>[]</td>\n",
       "    </tr>\n",
       "    <tr>\n",
       "      <th>253266</th>\n",
       "      <td>253266</td>\n",
       "      <td>2021-12-31</td>\n",
       "      <td>11:50:00</td>\n",
       "      <td>xismoments</td>\n",
       "      <td>NaN</td>\n",
       "      <td>17</td>\n",
       "      <td>president xijinping declare complete victory f...</td>\n",
       "      <td>[]</td>\n",
       "      <td>3</td>\n",
       "      <td>12</td>\n",
       "      <td>42</td>\n",
       "      <td>['xijinping']</td>\n",
       "    </tr>\n",
       "  </tbody>\n",
       "</table>\n",
       "<p>253267 rows × 12 columns</p>\n",
       "</div>"
      ],
      "text/plain": [
       "        Unnamed: 0        date      time         username place  topic  \\\n",
       "0                0  2013-01-01  19:06:17        rotipeeta   NaN      9   \n",
       "1                1  2013-01-01  23:13:13      waltydunlop   NaN     -1   \n",
       "2                2  2013-01-01  05:13:11       mrjintheuk   NaN      9   \n",
       "3                3  2013-01-01  01:29:28  financenewscast   NaN     -1   \n",
       "4                4  2013-01-01  05:21:28         warr1979   NaN     -1   \n",
       "...            ...         ...       ...              ...   ...    ...   \n",
       "253262      253262  2021-12-31  13:58:29          ozzey_h   NaN     14   \n",
       "253263      253263  2021-12-31  17:25:30       redand51ue   NaN      4   \n",
       "253264      253264  2021-12-31  20:06:07      ray44758650   NaN      4   \n",
       "253265      253265  2021-12-31  21:52:54   chineseemb_uga   NaN     17   \n",
       "253266      253266  2021-12-31  11:50:00       xismoments   NaN     17   \n",
       "\n",
       "                                              clean_tweet mentions  \\\n",
       "0       awww poor help chinese restaurant block tmpt k...       []   \n",
       "1       afraid thing think saw sky full chinese lanter...       []   \n",
       "2       battle damage clear tonight massive chinese me...       []   \n",
       "3       china economy end 2012 high 200m still live po...       []   \n",
       "4       welcome another rescission government know mak...       []   \n",
       "...                                                   ...      ...   \n",
       "253262  guarantee chinese government care people lift ...       []   \n",
       "253263  shed crocodile tear chinese people force pover...       []   \n",
       "253264  wrong deng wisely take ccp way chinese people ...       []   \n",
       "253265  excerpt president jinping 2022 new year addres...       []   \n",
       "253266  president xijinping declare complete victory f...       []   \n",
       "\n",
       "        replies_count  retweets_count  likes_count  \\\n",
       "0                   0               0            0   \n",
       "1                   0               0            0   \n",
       "2                   0               0            0   \n",
       "3                   0               0            0   \n",
       "4                   0               0            0   \n",
       "...               ...             ...          ...   \n",
       "253262              0               0            0   \n",
       "253263              0               0            0   \n",
       "253264              0               0            0   \n",
       "253265              1               2            9   \n",
       "253266              3              12           42   \n",
       "\n",
       "                                               hashtags  \n",
       "0                                                    []  \n",
       "1                                                    []  \n",
       "2                                                    []  \n",
       "3                                                    []  \n",
       "4                                                    []  \n",
       "...                                                 ...  \n",
       "253262                                               []  \n",
       "253263  ['ccp', 'emperorxi', 'ccp', 'commonprosperity']  \n",
       "253264                                               []  \n",
       "253265                                               []  \n",
       "253266                                    ['xijinping']  \n",
       "\n",
       "[253267 rows x 12 columns]"
      ]
     },
     "execution_count": 48,
     "metadata": {},
     "output_type": "execute_result"
    }
   ],
   "source": [
    "df"
   ]
  },
  {
   "cell_type": "code",
   "execution_count": 49,
   "id": "ecd578a4",
   "metadata": {
    "ExecuteTime": {
     "end_time": "2022-07-17T08:50:49.912327Z",
     "start_time": "2022-07-17T08:50:49.892078Z"
    }
   },
   "outputs": [
    {
     "data": {
      "text/html": [
       "<div>\n",
       "<style scoped>\n",
       "    .dataframe tbody tr th:only-of-type {\n",
       "        vertical-align: middle;\n",
       "    }\n",
       "\n",
       "    .dataframe tbody tr th {\n",
       "        vertical-align: top;\n",
       "    }\n",
       "\n",
       "    .dataframe thead th {\n",
       "        text-align: right;\n",
       "    }\n",
       "</style>\n",
       "<table border=\"1\" class=\"dataframe\">\n",
       "  <thead>\n",
       "    <tr style=\"text-align: right;\">\n",
       "      <th></th>\n",
       "      <th>Unnamed: 0</th>\n",
       "      <th>date</th>\n",
       "      <th>time</th>\n",
       "      <th>username</th>\n",
       "      <th>place</th>\n",
       "      <th>probs</th>\n",
       "      <th>topic</th>\n",
       "      <th>clean_tweet</th>\n",
       "      <th>mentions</th>\n",
       "      <th>replies_count</th>\n",
       "      <th>retweets_count</th>\n",
       "      <th>likes_count</th>\n",
       "      <th>hashtags</th>\n",
       "    </tr>\n",
       "  </thead>\n",
       "  <tbody>\n",
       "    <tr>\n",
       "      <th>0</th>\n",
       "      <td>0</td>\n",
       "      <td>2013-01-01</td>\n",
       "      <td>19:06:17</td>\n",
       "      <td>rotipeeta</td>\n",
       "      <td>NaN</td>\n",
       "      <td>0.324613</td>\n",
       "      <td>9</td>\n",
       "      <td>awww poor help chinese restaurant block tmpt k...</td>\n",
       "      <td>[]</td>\n",
       "      <td>0</td>\n",
       "      <td>0</td>\n",
       "      <td>0</td>\n",
       "      <td>[]</td>\n",
       "    </tr>\n",
       "    <tr>\n",
       "      <th>1</th>\n",
       "      <td>1</td>\n",
       "      <td>2013-01-01</td>\n",
       "      <td>23:13:13</td>\n",
       "      <td>waltydunlop</td>\n",
       "      <td>NaN</td>\n",
       "      <td>0.000000</td>\n",
       "      <td>-1</td>\n",
       "      <td>afraid thing think saw sky full chinese lanter...</td>\n",
       "      <td>[]</td>\n",
       "      <td>0</td>\n",
       "      <td>0</td>\n",
       "      <td>0</td>\n",
       "      <td>[]</td>\n",
       "    </tr>\n",
       "    <tr>\n",
       "      <th>2</th>\n",
       "      <td>2</td>\n",
       "      <td>2013-01-01</td>\n",
       "      <td>05:13:11</td>\n",
       "      <td>mrjintheuk</td>\n",
       "      <td>NaN</td>\n",
       "      <td>0.767247</td>\n",
       "      <td>9</td>\n",
       "      <td>battle damage clear tonight massive chinese me...</td>\n",
       "      <td>[]</td>\n",
       "      <td>0</td>\n",
       "      <td>0</td>\n",
       "      <td>0</td>\n",
       "      <td>[]</td>\n",
       "    </tr>\n",
       "    <tr>\n",
       "      <th>3</th>\n",
       "      <td>3</td>\n",
       "      <td>2013-01-01</td>\n",
       "      <td>01:29:28</td>\n",
       "      <td>financenewscast</td>\n",
       "      <td>NaN</td>\n",
       "      <td>0.000000</td>\n",
       "      <td>-1</td>\n",
       "      <td>china economy end 2012 high 200m still live po...</td>\n",
       "      <td>[]</td>\n",
       "      <td>0</td>\n",
       "      <td>0</td>\n",
       "      <td>0</td>\n",
       "      <td>[]</td>\n",
       "    </tr>\n",
       "    <tr>\n",
       "      <th>4</th>\n",
       "      <td>4</td>\n",
       "      <td>2013-01-01</td>\n",
       "      <td>05:21:28</td>\n",
       "      <td>warr1979</td>\n",
       "      <td>NaN</td>\n",
       "      <td>0.000000</td>\n",
       "      <td>-1</td>\n",
       "      <td>welcome another rescission government know mak...</td>\n",
       "      <td>[]</td>\n",
       "      <td>0</td>\n",
       "      <td>0</td>\n",
       "      <td>0</td>\n",
       "      <td>[]</td>\n",
       "    </tr>\n",
       "    <tr>\n",
       "      <th>...</th>\n",
       "      <td>...</td>\n",
       "      <td>...</td>\n",
       "      <td>...</td>\n",
       "      <td>...</td>\n",
       "      <td>...</td>\n",
       "      <td>...</td>\n",
       "      <td>...</td>\n",
       "      <td>...</td>\n",
       "      <td>...</td>\n",
       "      <td>...</td>\n",
       "      <td>...</td>\n",
       "      <td>...</td>\n",
       "      <td>...</td>\n",
       "    </tr>\n",
       "    <tr>\n",
       "      <th>253262</th>\n",
       "      <td>253262</td>\n",
       "      <td>2021-12-31</td>\n",
       "      <td>13:58:29</td>\n",
       "      <td>ozzey_h</td>\n",
       "      <td>NaN</td>\n",
       "      <td>0.981416</td>\n",
       "      <td>14</td>\n",
       "      <td>guarantee chinese government care people lift ...</td>\n",
       "      <td>[]</td>\n",
       "      <td>0</td>\n",
       "      <td>0</td>\n",
       "      <td>0</td>\n",
       "      <td>[]</td>\n",
       "    </tr>\n",
       "    <tr>\n",
       "      <th>253263</th>\n",
       "      <td>253263</td>\n",
       "      <td>2021-12-31</td>\n",
       "      <td>17:25:30</td>\n",
       "      <td>redand51ue</td>\n",
       "      <td>NaN</td>\n",
       "      <td>1.000000</td>\n",
       "      <td>4</td>\n",
       "      <td>shed crocodile tear chinese people force pover...</td>\n",
       "      <td>[]</td>\n",
       "      <td>0</td>\n",
       "      <td>0</td>\n",
       "      <td>0</td>\n",
       "      <td>['ccp', 'emperorxi', 'ccp', 'commonprosperity']</td>\n",
       "    </tr>\n",
       "    <tr>\n",
       "      <th>253264</th>\n",
       "      <td>253264</td>\n",
       "      <td>2021-12-31</td>\n",
       "      <td>20:06:07</td>\n",
       "      <td>ray44758650</td>\n",
       "      <td>NaN</td>\n",
       "      <td>1.000000</td>\n",
       "      <td>4</td>\n",
       "      <td>wrong deng wisely take ccp way chinese people ...</td>\n",
       "      <td>[]</td>\n",
       "      <td>0</td>\n",
       "      <td>0</td>\n",
       "      <td>0</td>\n",
       "      <td>[]</td>\n",
       "    </tr>\n",
       "    <tr>\n",
       "      <th>253265</th>\n",
       "      <td>253265</td>\n",
       "      <td>2021-12-31</td>\n",
       "      <td>21:52:54</td>\n",
       "      <td>chineseemb_uga</td>\n",
       "      <td>NaN</td>\n",
       "      <td>0.697056</td>\n",
       "      <td>17</td>\n",
       "      <td>excerpt president jinping 2022 new year addres...</td>\n",
       "      <td>[]</td>\n",
       "      <td>1</td>\n",
       "      <td>2</td>\n",
       "      <td>9</td>\n",
       "      <td>[]</td>\n",
       "    </tr>\n",
       "    <tr>\n",
       "      <th>253266</th>\n",
       "      <td>253266</td>\n",
       "      <td>2021-12-31</td>\n",
       "      <td>11:50:00</td>\n",
       "      <td>xismoments</td>\n",
       "      <td>NaN</td>\n",
       "      <td>0.301112</td>\n",
       "      <td>17</td>\n",
       "      <td>president xijinping declare complete victory f...</td>\n",
       "      <td>[]</td>\n",
       "      <td>3</td>\n",
       "      <td>12</td>\n",
       "      <td>42</td>\n",
       "      <td>['xijinping']</td>\n",
       "    </tr>\n",
       "  </tbody>\n",
       "</table>\n",
       "<p>253267 rows × 13 columns</p>\n",
       "</div>"
      ],
      "text/plain": [
       "        Unnamed: 0        date      time         username place     probs  \\\n",
       "0                0  2013-01-01  19:06:17        rotipeeta   NaN  0.324613   \n",
       "1                1  2013-01-01  23:13:13      waltydunlop   NaN  0.000000   \n",
       "2                2  2013-01-01  05:13:11       mrjintheuk   NaN  0.767247   \n",
       "3                3  2013-01-01  01:29:28  financenewscast   NaN  0.000000   \n",
       "4                4  2013-01-01  05:21:28         warr1979   NaN  0.000000   \n",
       "...            ...         ...       ...              ...   ...       ...   \n",
       "253262      253262  2021-12-31  13:58:29          ozzey_h   NaN  0.981416   \n",
       "253263      253263  2021-12-31  17:25:30       redand51ue   NaN  1.000000   \n",
       "253264      253264  2021-12-31  20:06:07      ray44758650   NaN  1.000000   \n",
       "253265      253265  2021-12-31  21:52:54   chineseemb_uga   NaN  0.697056   \n",
       "253266      253266  2021-12-31  11:50:00       xismoments   NaN  0.301112   \n",
       "\n",
       "        topic                                        clean_tweet mentions  \\\n",
       "0           9  awww poor help chinese restaurant block tmpt k...       []   \n",
       "1          -1  afraid thing think saw sky full chinese lanter...       []   \n",
       "2           9  battle damage clear tonight massive chinese me...       []   \n",
       "3          -1  china economy end 2012 high 200m still live po...       []   \n",
       "4          -1  welcome another rescission government know mak...       []   \n",
       "...       ...                                                ...      ...   \n",
       "253262     14  guarantee chinese government care people lift ...       []   \n",
       "253263      4  shed crocodile tear chinese people force pover...       []   \n",
       "253264      4  wrong deng wisely take ccp way chinese people ...       []   \n",
       "253265     17  excerpt president jinping 2022 new year addres...       []   \n",
       "253266     17  president xijinping declare complete victory f...       []   \n",
       "\n",
       "        replies_count  retweets_count  likes_count  \\\n",
       "0                   0               0            0   \n",
       "1                   0               0            0   \n",
       "2                   0               0            0   \n",
       "3                   0               0            0   \n",
       "4                   0               0            0   \n",
       "...               ...             ...          ...   \n",
       "253262              0               0            0   \n",
       "253263              0               0            0   \n",
       "253264              0               0            0   \n",
       "253265              1               2            9   \n",
       "253266              3              12           42   \n",
       "\n",
       "                                               hashtags  \n",
       "0                                                    []  \n",
       "1                                                    []  \n",
       "2                                                    []  \n",
       "3                                                    []  \n",
       "4                                                    []  \n",
       "...                                                 ...  \n",
       "253262                                               []  \n",
       "253263  ['ccp', 'emperorxi', 'ccp', 'commonprosperity']  \n",
       "253264                                               []  \n",
       "253265                                               []  \n",
       "253266                                    ['xijinping']  \n",
       "\n",
       "[253267 rows x 13 columns]"
      ]
     },
     "execution_count": 49,
     "metadata": {},
     "output_type": "execute_result"
    }
   ],
   "source": [
    "df.insert(loc=5, column='probs', value=probs)\n",
    "df"
   ]
  },
  {
   "cell_type": "code",
   "execution_count": 50,
   "id": "6307a554",
   "metadata": {
    "ExecuteTime": {
     "end_time": "2022-07-17T08:52:53.685527Z",
     "start_time": "2022-07-17T08:52:10.753078Z"
    }
   },
   "outputs": [],
   "source": [
    "df.to_excel(\"/Volumes/时伟SSD512G/带topic和prob-0717扶贫数据-已清洗完成-253267.xlsx\")"
   ]
  },
  {
   "cell_type": "code",
   "execution_count": null,
   "id": "c1fbb788",
   "metadata": {},
   "outputs": [],
   "source": []
  }
 ],
 "metadata": {
  "kernelspec": {
   "display_name": "Python 3 (ipykernel)",
   "language": "python",
   "name": "python3"
  },
  "language_info": {
   "codemirror_mode": {
    "name": "ipython",
    "version": 3
   },
   "file_extension": ".py",
   "mimetype": "text/x-python",
   "name": "python",
   "nbconvert_exporter": "python",
   "pygments_lexer": "ipython3",
   "version": "3.9.7"
  },
  "varInspector": {
   "cols": {
    "lenName": 16,
    "lenType": 16,
    "lenVar": 40
   },
   "kernels_config": {
    "python": {
     "delete_cmd_postfix": "",
     "delete_cmd_prefix": "del ",
     "library": "var_list.py",
     "varRefreshCmd": "print(var_dic_list())"
    },
    "r": {
     "delete_cmd_postfix": ") ",
     "delete_cmd_prefix": "rm(",
     "library": "var_list.r",
     "varRefreshCmd": "cat(var_dic_list()) "
    }
   },
   "oldHeight": 122.852,
   "position": {
    "height": "40px",
    "left": "1168px",
    "right": "20px",
    "top": "120px",
    "width": "250px"
   },
   "types_to_exclude": [
    "module",
    "function",
    "builtin_function_or_method",
    "instance",
    "_Feature"
   ],
   "varInspector_section_display": "none",
   "window_display": true
  }
 },
 "nbformat": 4,
 "nbformat_minor": 5
}
