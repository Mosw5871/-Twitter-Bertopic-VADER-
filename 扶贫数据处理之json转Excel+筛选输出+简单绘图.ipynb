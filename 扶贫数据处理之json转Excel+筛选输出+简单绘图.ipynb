{
 "cells": [
  {
   "cell_type": "code",
   "execution_count": 1,
   "id": "e308222a",
   "metadata": {
    "ExecuteTime": {
     "end_time": "2022-07-12T00:10:08.468670Z",
     "start_time": "2022-07-12T00:10:06.784275Z"
    }
   },
   "outputs": [],
   "source": [
    "import pandas as pd\n",
    "import json\n",
    "\n",
    "targetFile = \"/Volumes/时伟SSD512G/扶贫数据汇总.json\""
   ]
  },
  {
   "cell_type": "code",
   "execution_count": 2,
   "id": "6d61dc55",
   "metadata": {
    "ExecuteTime": {
     "end_time": "2022-07-12T00:11:11.351082Z",
     "start_time": "2022-07-12T00:10:08.470857Z"
    }
   },
   "outputs": [],
   "source": [
    "#打开汇总好的json文件，json文件中每一行都是一个字典，将其装载到列表line_dict_list中\n",
    "line_dict_list = []\n",
    "with open(targetFile, 'r', encoding=\"utf-8\") as load_targetFile:\n",
    "    for line in load_targetFile:\n",
    "        line_dict = json.loads(line)\n",
    "        line_dict_list.append(line_dict)"
   ]
  },
  {
   "cell_type": "code",
   "execution_count": 3,
   "id": "b464fe8e",
   "metadata": {
    "ExecuteTime": {
     "end_time": "2022-07-12T00:11:33.291065Z",
     "start_time": "2022-07-12T00:11:11.358700Z"
    }
   },
   "outputs": [],
   "source": [
    "#将列表line_dict_list中（每一行是一个字典）的元素转换成DataFrame格式\n",
    "df = pd.DataFrame.from_dict(line_dict_list)"
   ]
  },
  {
   "cell_type": "code",
   "execution_count": 4,
   "id": "ec7e89c4",
   "metadata": {
    "ExecuteTime": {
     "end_time": "2022-07-12T00:11:35.171754Z",
     "start_time": "2022-07-12T00:11:33.308579Z"
    }
   },
   "outputs": [],
   "source": [
    "#df_sub：将df中的数据根据‘tweet’一栏去重之后的新DataFrame\n",
    "df_sub = df.drop_duplicates(subset=['tweet'])"
   ]
  },
  {
   "cell_type": "code",
   "execution_count": 5,
   "id": "a67685d1",
   "metadata": {
    "ExecuteTime": {
     "end_time": "2022-07-12T00:11:37.157225Z",
     "start_time": "2022-07-12T00:11:35.173764Z"
    }
   },
   "outputs": [
    {
     "name": "stdout",
     "output_type": "stream",
     "text": [
      "<class 'pandas.core.frame.DataFrame'>\n",
      "Int64Index: 735948 entries, 0 to 872509\n",
      "Data columns (total 36 columns):\n",
      " #   Column           Non-Null Count   Dtype \n",
      "---  ------           --------------   ----- \n",
      " 0   id               735948 non-null  int64 \n",
      " 1   conversation_id  735948 non-null  object\n",
      " 2   created_at       735948 non-null  object\n",
      " 3   date             735948 non-null  object\n",
      " 4   time             735948 non-null  object\n",
      " 5   timezone         735948 non-null  object\n",
      " 6   user_id          735948 non-null  int64 \n",
      " 7   username         735948 non-null  object\n",
      " 8   name             735948 non-null  object\n",
      " 9   place            735948 non-null  object\n",
      " 10  tweet            735948 non-null  object\n",
      " 11  language         735948 non-null  object\n",
      " 12  mentions         735948 non-null  object\n",
      " 13  urls             735948 non-null  object\n",
      " 14  photos           735948 non-null  object\n",
      " 15  replies_count    735948 non-null  int64 \n",
      " 16  retweets_count   735948 non-null  int64 \n",
      " 17  likes_count      735948 non-null  int64 \n",
      " 18  hashtags         735948 non-null  object\n",
      " 19  cashtags         735948 non-null  object\n",
      " 20  link             735948 non-null  object\n",
      " 21  retweet          735948 non-null  bool  \n",
      " 22  quote_url        735948 non-null  object\n",
      " 23  video            735948 non-null  int64 \n",
      " 24  thumbnail        735948 non-null  object\n",
      " 25  near             735948 non-null  object\n",
      " 26  geo              735948 non-null  object\n",
      " 27  source           735948 non-null  object\n",
      " 28  user_rt_id       735948 non-null  object\n",
      " 29  user_rt          735948 non-null  object\n",
      " 30  retweet_id       735948 non-null  object\n",
      " 31  reply_to         735948 non-null  object\n",
      " 32  retweet_date     735948 non-null  object\n",
      " 33  translate        735948 non-null  object\n",
      " 34  trans_src        735948 non-null  object\n",
      " 35  trans_dest       735948 non-null  object\n",
      "dtypes: bool(1), int64(6), object(29)\n",
      "memory usage: 202.8+ MB\n"
     ]
    }
   ],
   "source": [
    "#查看df_sub的信息\n",
    "df_sub.head()\n",
    "df_sub.info()"
   ]
  },
  {
   "cell_type": "code",
   "execution_count": 6,
   "id": "4889fce2",
   "metadata": {
    "ExecuteTime": {
     "end_time": "2022-07-12T00:11:37.328833Z",
     "start_time": "2022-07-12T00:11:37.159028Z"
    }
   },
   "outputs": [],
   "source": [
    "#删除df_sub中不需要的列，生成新DataFrame——df_sub_2\n",
    "df_sub_2 = df_sub.drop(labels=['id', 'conversation_id', 'created_at', 'timezone', 'user_id', \n",
    "                           'name', 'urls', 'photos', 'cashtags','link', 'retweet', 'quote_url', \n",
    "                           'video', 'thumbnail', 'near', 'geo', 'source', 'user_rt_id', \n",
    "                          'user_rt', 'retweet_id', 'reply_to', 'retweet_date', 'translate', \n",
    "                          'trans_src', 'trans_dest'], axis=1) \n",
    "# axis=1 表示删除列，['id', 'timezone'] 要删除的列的标签，可一次删除多列 # inplace=True, 直接从内部删除"
   ]
  },
  {
   "cell_type": "code",
   "execution_count": 7,
   "id": "2dd8095b",
   "metadata": {
    "ExecuteTime": {
     "end_time": "2022-07-12T00:11:38.150457Z",
     "start_time": "2022-07-12T00:11:37.331400Z"
    }
   },
   "outputs": [
    {
     "name": "stdout",
     "output_type": "stream",
     "text": [
      "<class 'pandas.core.frame.DataFrame'>\n",
      "Int64Index: 735948 entries, 0 to 872509\n",
      "Data columns (total 11 columns):\n",
      " #   Column          Non-Null Count   Dtype \n",
      "---  ------          --------------   ----- \n",
      " 0   date            735948 non-null  object\n",
      " 1   time            735948 non-null  object\n",
      " 2   username        735948 non-null  object\n",
      " 3   place           735948 non-null  object\n",
      " 4   tweet           735948 non-null  object\n",
      " 5   language        735948 non-null  object\n",
      " 6   mentions        735948 non-null  object\n",
      " 7   replies_count   735948 non-null  int64 \n",
      " 8   retweets_count  735948 non-null  int64 \n",
      " 9   likes_count     735948 non-null  int64 \n",
      " 10  hashtags        735948 non-null  object\n",
      "dtypes: int64(3), object(8)\n",
      "memory usage: 67.4+ MB\n"
     ]
    }
   ],
   "source": [
    "#查看df_sub_2的信息\n",
    "df_sub_2.head()\n",
    "df_sub_2.info()"
   ]
  },
  {
   "cell_type": "code",
   "execution_count": 8,
   "id": "06a637ea",
   "metadata": {
    "ExecuteTime": {
     "end_time": "2022-07-12T00:15:28.415535Z",
     "start_time": "2022-07-12T00:11:38.152297Z"
    }
   },
   "outputs": [],
   "source": [
    "#将df_sub_2存储到Excel中\n",
    "df_sub_2.to_excel(\"/Volumes/时伟SSD512G/扶贫数据-11列.xlsx\")"
   ]
  },
  {
   "cell_type": "code",
   "execution_count": 9,
   "id": "376f5dfa",
   "metadata": {
    "ExecuteTime": {
     "end_time": "2022-07-12T00:22:21.642203Z",
     "start_time": "2022-07-12T00:22:21.573055Z"
    }
   },
   "outputs": [
    {
     "data": {
      "text/html": [
       "<div>\n",
       "<style scoped>\n",
       "    .dataframe tbody tr th:only-of-type {\n",
       "        vertical-align: middle;\n",
       "    }\n",
       "\n",
       "    .dataframe tbody tr th {\n",
       "        vertical-align: top;\n",
       "    }\n",
       "\n",
       "    .dataframe thead th {\n",
       "        text-align: right;\n",
       "    }\n",
       "</style>\n",
       "<table border=\"1\" class=\"dataframe\">\n",
       "  <thead>\n",
       "    <tr style=\"text-align: right;\">\n",
       "      <th></th>\n",
       "      <th>date</th>\n",
       "      <th>time</th>\n",
       "      <th>username</th>\n",
       "      <th>place</th>\n",
       "      <th>tweet</th>\n",
       "      <th>language</th>\n",
       "      <th>mentions</th>\n",
       "      <th>replies_count</th>\n",
       "      <th>retweets_count</th>\n",
       "      <th>likes_count</th>\n",
       "      <th>hashtags</th>\n",
       "    </tr>\n",
       "  </thead>\n",
       "  <tbody>\n",
       "    <tr>\n",
       "      <th>0</th>\n",
       "      <td>2021-10-06</td>\n",
       "      <td>07:44:40</td>\n",
       "      <td>donotforget_911</td>\n",
       "      <td></td>\n",
       "      <td>The Biden administration is warning China over...</td>\n",
       "      <td>en</td>\n",
       "      <td>[]</td>\n",
       "      <td>0</td>\n",
       "      <td>0</td>\n",
       "      <td>0</td>\n",
       "      <td>[]</td>\n",
       "    </tr>\n",
       "    <tr>\n",
       "      <th>1</th>\n",
       "      <td>2021-10-06</td>\n",
       "      <td>06:57:11</td>\n",
       "      <td>noalgos</td>\n",
       "      <td></td>\n",
       "      <td>@Stalingrad_Poor @DebraG_Robins driven by Chin...</td>\n",
       "      <td>en</td>\n",
       "      <td>[]</td>\n",
       "      <td>0</td>\n",
       "      <td>1</td>\n",
       "      <td>1</td>\n",
       "      <td>[]</td>\n",
       "    </tr>\n",
       "    <tr>\n",
       "      <th>2</th>\n",
       "      <td>2021-10-06</td>\n",
       "      <td>06:38:58</td>\n",
       "      <td>openparachute</td>\n",
       "      <td></td>\n",
       "      <td>@ouuooo @sajidjavid Perhaps your reading is pr...</td>\n",
       "      <td>en</td>\n",
       "      <td>[]</td>\n",
       "      <td>0</td>\n",
       "      <td>0</td>\n",
       "      <td>0</td>\n",
       "      <td>[]</td>\n",
       "    </tr>\n",
       "    <tr>\n",
       "      <th>3</th>\n",
       "      <td>2021-10-06</td>\n",
       "      <td>06:16:10</td>\n",
       "      <td>ertemnuneg</td>\n",
       "      <td></td>\n",
       "      <td>Coordination among \"so-called allies\" against ...</td>\n",
       "      <td>en</td>\n",
       "      <td>[{'screen_name': 'ipacglobal', 'name': 'inter-...</td>\n",
       "      <td>1</td>\n",
       "      <td>0</td>\n",
       "      <td>0</td>\n",
       "      <td>[]</td>\n",
       "    </tr>\n",
       "    <tr>\n",
       "      <th>4</th>\n",
       "      <td>2021-10-06</td>\n",
       "      <td>05:48:25</td>\n",
       "      <td>jasonralston101</td>\n",
       "      <td></td>\n",
       "      <td>It’s not about being black, white, Hispanic, J...</td>\n",
       "      <td>en</td>\n",
       "      <td>[]</td>\n",
       "      <td>0</td>\n",
       "      <td>0</td>\n",
       "      <td>0</td>\n",
       "      <td>[]</td>\n",
       "    </tr>\n",
       "  </tbody>\n",
       "</table>\n",
       "</div>"
      ],
      "text/plain": [
       "         date      time         username place  \\\n",
       "0  2021-10-06  07:44:40  donotforget_911         \n",
       "1  2021-10-06  06:57:11          noalgos         \n",
       "2  2021-10-06  06:38:58    openparachute         \n",
       "3  2021-10-06  06:16:10       ertemnuneg         \n",
       "4  2021-10-06  05:48:25  jasonralston101         \n",
       "\n",
       "                                               tweet language  \\\n",
       "0  The Biden administration is warning China over...       en   \n",
       "1  @Stalingrad_Poor @DebraG_Robins driven by Chin...       en   \n",
       "2  @ouuooo @sajidjavid Perhaps your reading is pr...       en   \n",
       "3  Coordination among \"so-called allies\" against ...       en   \n",
       "4  It’s not about being black, white, Hispanic, J...       en   \n",
       "\n",
       "                                            mentions  replies_count  \\\n",
       "0                                                 []              0   \n",
       "1                                                 []              0   \n",
       "2                                                 []              0   \n",
       "3  [{'screen_name': 'ipacglobal', 'name': 'inter-...              1   \n",
       "4                                                 []              0   \n",
       "\n",
       "   retweets_count  likes_count hashtags  \n",
       "0               0            0       []  \n",
       "1               1            1       []  \n",
       "2               0            0       []  \n",
       "3               0            0       []  \n",
       "4               0            0       []  "
      ]
     },
     "execution_count": 9,
     "metadata": {},
     "output_type": "execute_result"
    }
   ],
   "source": [
    "df_sub_2.head()"
   ]
  },
  {
   "cell_type": "code",
   "execution_count": 11,
   "id": "ba03c688",
   "metadata": {
    "ExecuteTime": {
     "end_time": "2022-07-12T00:27:02.544822Z",
     "start_time": "2022-07-12T00:26:56.774816Z"
    }
   },
   "outputs": [],
   "source": [
    "#按照language列筛选出df_sub_2中en的所有数据，生成df_sub_2_en的DataFrame格式\n",
    "df_sub_2_en = df_sub_2[(df_sub_2['language'] == 'en')]"
   ]
  },
  {
   "cell_type": "code",
   "execution_count": 12,
   "id": "e69bbd89",
   "metadata": {
    "ExecuteTime": {
     "end_time": "2022-07-12T00:28:37.142463Z",
     "start_time": "2022-07-12T00:28:37.087682Z"
    }
   },
   "outputs": [
    {
     "data": {
      "text/html": [
       "<div>\n",
       "<style scoped>\n",
       "    .dataframe tbody tr th:only-of-type {\n",
       "        vertical-align: middle;\n",
       "    }\n",
       "\n",
       "    .dataframe tbody tr th {\n",
       "        vertical-align: top;\n",
       "    }\n",
       "\n",
       "    .dataframe thead th {\n",
       "        text-align: right;\n",
       "    }\n",
       "</style>\n",
       "<table border=\"1\" class=\"dataframe\">\n",
       "  <thead>\n",
       "    <tr style=\"text-align: right;\">\n",
       "      <th></th>\n",
       "      <th>date</th>\n",
       "      <th>time</th>\n",
       "      <th>username</th>\n",
       "      <th>place</th>\n",
       "      <th>tweet</th>\n",
       "      <th>language</th>\n",
       "      <th>mentions</th>\n",
       "      <th>replies_count</th>\n",
       "      <th>retweets_count</th>\n",
       "      <th>likes_count</th>\n",
       "      <th>hashtags</th>\n",
       "    </tr>\n",
       "  </thead>\n",
       "  <tbody>\n",
       "    <tr>\n",
       "      <th>0</th>\n",
       "      <td>2021-10-06</td>\n",
       "      <td>07:44:40</td>\n",
       "      <td>donotforget_911</td>\n",
       "      <td></td>\n",
       "      <td>The Biden administration is warning China over...</td>\n",
       "      <td>en</td>\n",
       "      <td>[]</td>\n",
       "      <td>0</td>\n",
       "      <td>0</td>\n",
       "      <td>0</td>\n",
       "      <td>[]</td>\n",
       "    </tr>\n",
       "    <tr>\n",
       "      <th>1</th>\n",
       "      <td>2021-10-06</td>\n",
       "      <td>06:57:11</td>\n",
       "      <td>noalgos</td>\n",
       "      <td></td>\n",
       "      <td>@Stalingrad_Poor @DebraG_Robins driven by Chin...</td>\n",
       "      <td>en</td>\n",
       "      <td>[]</td>\n",
       "      <td>0</td>\n",
       "      <td>1</td>\n",
       "      <td>1</td>\n",
       "      <td>[]</td>\n",
       "    </tr>\n",
       "    <tr>\n",
       "      <th>2</th>\n",
       "      <td>2021-10-06</td>\n",
       "      <td>06:38:58</td>\n",
       "      <td>openparachute</td>\n",
       "      <td></td>\n",
       "      <td>@ouuooo @sajidjavid Perhaps your reading is pr...</td>\n",
       "      <td>en</td>\n",
       "      <td>[]</td>\n",
       "      <td>0</td>\n",
       "      <td>0</td>\n",
       "      <td>0</td>\n",
       "      <td>[]</td>\n",
       "    </tr>\n",
       "    <tr>\n",
       "      <th>3</th>\n",
       "      <td>2021-10-06</td>\n",
       "      <td>06:16:10</td>\n",
       "      <td>ertemnuneg</td>\n",
       "      <td></td>\n",
       "      <td>Coordination among \"so-called allies\" against ...</td>\n",
       "      <td>en</td>\n",
       "      <td>[{'screen_name': 'ipacglobal', 'name': 'inter-...</td>\n",
       "      <td>1</td>\n",
       "      <td>0</td>\n",
       "      <td>0</td>\n",
       "      <td>[]</td>\n",
       "    </tr>\n",
       "    <tr>\n",
       "      <th>4</th>\n",
       "      <td>2021-10-06</td>\n",
       "      <td>05:48:25</td>\n",
       "      <td>jasonralston101</td>\n",
       "      <td></td>\n",
       "      <td>It’s not about being black, white, Hispanic, J...</td>\n",
       "      <td>en</td>\n",
       "      <td>[]</td>\n",
       "      <td>0</td>\n",
       "      <td>0</td>\n",
       "      <td>0</td>\n",
       "      <td>[]</td>\n",
       "    </tr>\n",
       "  </tbody>\n",
       "</table>\n",
       "</div>"
      ],
      "text/plain": [
       "         date      time         username place  \\\n",
       "0  2021-10-06  07:44:40  donotforget_911         \n",
       "1  2021-10-06  06:57:11          noalgos         \n",
       "2  2021-10-06  06:38:58    openparachute         \n",
       "3  2021-10-06  06:16:10       ertemnuneg         \n",
       "4  2021-10-06  05:48:25  jasonralston101         \n",
       "\n",
       "                                               tweet language  \\\n",
       "0  The Biden administration is warning China over...       en   \n",
       "1  @Stalingrad_Poor @DebraG_Robins driven by Chin...       en   \n",
       "2  @ouuooo @sajidjavid Perhaps your reading is pr...       en   \n",
       "3  Coordination among \"so-called allies\" against ...       en   \n",
       "4  It’s not about being black, white, Hispanic, J...       en   \n",
       "\n",
       "                                            mentions  replies_count  \\\n",
       "0                                                 []              0   \n",
       "1                                                 []              0   \n",
       "2                                                 []              0   \n",
       "3  [{'screen_name': 'ipacglobal', 'name': 'inter-...              1   \n",
       "4                                                 []              0   \n",
       "\n",
       "   retweets_count  likes_count hashtags  \n",
       "0               0            0       []  \n",
       "1               1            1       []  \n",
       "2               0            0       []  \n",
       "3               0            0       []  \n",
       "4               0            0       []  "
      ]
     },
     "execution_count": 12,
     "metadata": {},
     "output_type": "execute_result"
    }
   ],
   "source": [
    "df_sub_2_en.head() #查看df_sub_2_en数据"
   ]
  },
  {
   "cell_type": "code",
   "execution_count": 13,
   "id": "ac799083",
   "metadata": {
    "ExecuteTime": {
     "end_time": "2022-07-12T00:35:26.832560Z",
     "start_time": "2022-07-12T00:31:38.639369Z"
    }
   },
   "outputs": [],
   "source": [
    "#将df_sub_2_en存储到Excel中\n",
    "df_sub_2_en.to_excel(\"/Volumes/时伟SSD512G/扶贫数据-11列-英文推文筛选.xlsx\")"
   ]
  },
  {
   "cell_type": "code",
   "execution_count": 15,
   "id": "9034ce1b",
   "metadata": {
    "ExecuteTime": {
     "end_time": "2022-07-12T00:47:31.723540Z",
     "start_time": "2022-07-12T00:47:27.073091Z"
    }
   },
   "outputs": [
    {
     "data": {
      "text/html": [
       "<div>\n",
       "<style scoped>\n",
       "    .dataframe tbody tr th:only-of-type {\n",
       "        vertical-align: middle;\n",
       "    }\n",
       "\n",
       "    .dataframe tbody tr th {\n",
       "        vertical-align: top;\n",
       "    }\n",
       "\n",
       "    .dataframe thead th {\n",
       "        text-align: right;\n",
       "    }\n",
       "</style>\n",
       "<table border=\"1\" class=\"dataframe\">\n",
       "  <thead>\n",
       "    <tr style=\"text-align: right;\">\n",
       "      <th></th>\n",
       "      <th>date</th>\n",
       "      <th>time</th>\n",
       "      <th>username</th>\n",
       "      <th>place</th>\n",
       "      <th>tweet</th>\n",
       "      <th>language</th>\n",
       "      <th>mentions</th>\n",
       "      <th>replies_count</th>\n",
       "      <th>retweets_count</th>\n",
       "      <th>likes_count</th>\n",
       "      <th>hashtags</th>\n",
       "    </tr>\n",
       "  </thead>\n",
       "  <tbody>\n",
       "    <tr>\n",
       "      <th>650558</th>\n",
       "      <td>2007-01-26</td>\n",
       "      <td>20:21:14</td>\n",
       "      <td>philcampbell</td>\n",
       "      <td></td>\n",
       "      <td>Really was considering going to the chang thai...</td>\n",
       "      <td>en</td>\n",
       "      <td>[]</td>\n",
       "      <td>0</td>\n",
       "      <td>0</td>\n",
       "      <td>0</td>\n",
       "      <td>[]</td>\n",
       "    </tr>\n",
       "    <tr>\n",
       "      <th>650557</th>\n",
       "      <td>2007-03-26</td>\n",
       "      <td>10:05:21</td>\n",
       "      <td>aardling</td>\n",
       "      <td></td>\n",
       "      <td>Electric guitar music? Rhino cavalry? Chinese ...</td>\n",
       "      <td>en</td>\n",
       "      <td>[]</td>\n",
       "      <td>0</td>\n",
       "      <td>0</td>\n",
       "      <td>0</td>\n",
       "      <td>[]</td>\n",
       "    </tr>\n",
       "    <tr>\n",
       "      <th>275563</th>\n",
       "      <td>2007-04-01</td>\n",
       "      <td>07:09:58</td>\n",
       "      <td>maushopgirl</td>\n",
       "      <td></td>\n",
       "      <td>watching the evening news - glutten from china...</td>\n",
       "      <td>en</td>\n",
       "      <td>[]</td>\n",
       "      <td>0</td>\n",
       "      <td>0</td>\n",
       "      <td>0</td>\n",
       "      <td>[]</td>\n",
       "    </tr>\n",
       "    <tr>\n",
       "      <th>749619</th>\n",
       "      <td>2007-04-09</td>\n",
       "      <td>12:04:13</td>\n",
       "      <td>cdt</td>\n",
       "      <td></td>\n",
       "      <td>China cautiously enlists NGO help in poverty f...</td>\n",
       "      <td>en</td>\n",
       "      <td>[]</td>\n",
       "      <td>0</td>\n",
       "      <td>0</td>\n",
       "      <td>0</td>\n",
       "      <td>[]</td>\n",
       "    </tr>\n",
       "    <tr>\n",
       "      <th>650556</th>\n",
       "      <td>2007-04-13</td>\n",
       "      <td>07:56:47</td>\n",
       "      <td>boogenstein</td>\n",
       "      <td></td>\n",
       "      <td>@andrewbarnett We have an average Thai, a poor...</td>\n",
       "      <td>en</td>\n",
       "      <td>[]</td>\n",
       "      <td>0</td>\n",
       "      <td>0</td>\n",
       "      <td>0</td>\n",
       "      <td>[]</td>\n",
       "    </tr>\n",
       "  </tbody>\n",
       "</table>\n",
       "</div>"
      ],
      "text/plain": [
       "              date      time      username place  \\\n",
       "650558  2007-01-26  20:21:14  philcampbell         \n",
       "650557  2007-03-26  10:05:21      aardling         \n",
       "275563  2007-04-01  07:09:58   maushopgirl         \n",
       "749619  2007-04-09  12:04:13           cdt         \n",
       "650556  2007-04-13  07:56:47   boogenstein         \n",
       "\n",
       "                                                    tweet language mentions  \\\n",
       "650558  Really was considering going to the chang thai...       en       []   \n",
       "650557  Electric guitar music? Rhino cavalry? Chinese ...       en       []   \n",
       "275563  watching the evening news - glutten from china...       en       []   \n",
       "749619  China cautiously enlists NGO help in poverty f...       en       []   \n",
       "650556  @andrewbarnett We have an average Thai, a poor...       en       []   \n",
       "\n",
       "        replies_count  retweets_count  likes_count hashtags  \n",
       "650558              0               0            0       []  \n",
       "650557              0               0            0       []  \n",
       "275563              0               0            0       []  \n",
       "749619              0               0            0       []  \n",
       "650556              0               0            0       []  "
      ]
     },
     "execution_count": 15,
     "metadata": {},
     "output_type": "execute_result"
    }
   ],
   "source": [
    "#sort_values() 中设置单个列的列名称，可以根据单个列进行排序，通过设置参数 ascending 可以设置升序或降序排列，默认升序True，降序是False\n",
    "df_sub_2_en_datesort = df_sub_2_en.sort_values('date', ascending = True)\n",
    "\n",
    "df_sub_2_en_datesort.head()"
   ]
  },
  {
   "cell_type": "code",
   "execution_count": 30,
   "id": "2531b319",
   "metadata": {
    "ExecuteTime": {
     "end_time": "2022-07-12T02:30:12.983748Z",
     "start_time": "2022-07-12T02:30:10.068708Z"
    }
   },
   "outputs": [
    {
     "name": "stdout",
     "output_type": "stream",
     "text": [
      "2007-01-26       1\n",
      "2008-04-30       1\n",
      "2008-05-04       1\n",
      "2008-12-21       1\n",
      "2008-12-20       1\n",
      "              ... \n",
      "2015-09-27    1275\n",
      "2020-06-18    1284\n",
      "2020-06-20    1291\n",
      "2016-06-21    1321\n",
      "2020-03-19    1576\n",
      "Name: date, Length: 5042, dtype: int64\n"
     ]
    }
   ],
   "source": [
    "#统计df_sub_2_en_datesort这个dataframe中date列中的各个日期发帖数量 #series_datacount为series格式\n",
    "series_datacount = df_sub_2_en_datesort['date'].value_counts(ascending=True)\n",
    "print(series_datacount)"
   ]
  },
  {
   "cell_type": "code",
   "execution_count": 39,
   "id": "ea74afbb",
   "metadata": {
    "ExecuteTime": {
     "end_time": "2022-07-12T02:51:06.246791Z",
     "start_time": "2022-07-12T02:51:06.165405Z"
    }
   },
   "outputs": [
    {
     "data": {
      "text/html": [
       "<div>\n",
       "<style scoped>\n",
       "    .dataframe tbody tr th:only-of-type {\n",
       "        vertical-align: middle;\n",
       "    }\n",
       "\n",
       "    .dataframe tbody tr th {\n",
       "        vertical-align: top;\n",
       "    }\n",
       "\n",
       "    .dataframe thead th {\n",
       "        text-align: right;\n",
       "    }\n",
       "</style>\n",
       "<table border=\"1\" class=\"dataframe\">\n",
       "  <thead>\n",
       "    <tr style=\"text-align: right;\">\n",
       "      <th></th>\n",
       "      <th>date</th>\n",
       "      <th>count</th>\n",
       "    </tr>\n",
       "  </thead>\n",
       "  <tbody>\n",
       "    <tr>\n",
       "      <th>0</th>\n",
       "      <td>2007-01-26</td>\n",
       "      <td>1</td>\n",
       "    </tr>\n",
       "    <tr>\n",
       "      <th>147</th>\n",
       "      <td>2007-03-26</td>\n",
       "      <td>1</td>\n",
       "    </tr>\n",
       "    <tr>\n",
       "      <th>140</th>\n",
       "      <td>2007-04-01</td>\n",
       "      <td>1</td>\n",
       "    </tr>\n",
       "    <tr>\n",
       "      <th>169</th>\n",
       "      <td>2007-04-09</td>\n",
       "      <td>1</td>\n",
       "    </tr>\n",
       "    <tr>\n",
       "      <th>163</th>\n",
       "      <td>2007-04-13</td>\n",
       "      <td>1</td>\n",
       "    </tr>\n",
       "  </tbody>\n",
       "</table>\n",
       "</div>"
      ],
      "text/plain": [
       "           date  count\n",
       "0    2007-01-26      1\n",
       "147  2007-03-26      1\n",
       "140  2007-04-01      1\n",
       "169  2007-04-09      1\n",
       "163  2007-04-13      1"
      ]
     },
     "execution_count": 39,
     "metadata": {},
     "output_type": "execute_result"
    }
   ],
   "source": [
    "#将series格式的series_datacount转换成dataframe格式的df_datacount\n",
    "df_datacount = series_datacount.to_frame(name='count')\n",
    "df_datacount = df_datacount.reset_index().rename(columns={'index':'date'}) #更改索引列名\n",
    "df_datacount = df_datacount.sort_values('date', ascending = True) #将date列按升序排序\n",
    "df_datacount.head()"
   ]
  },
  {
   "cell_type": "code",
   "execution_count": 40,
   "id": "159a768d",
   "metadata": {
    "ExecuteTime": {
     "end_time": "2022-07-12T02:53:17.724596Z",
     "start_time": "2022-07-12T02:53:16.211017Z"
    }
   },
   "outputs": [],
   "source": [
    "#调用matplotlib对日期与数量进行绘图 教程https://www.runoob.com/matplotlib/matplotlib-tutorial.html\n",
    "import matplotlib.pyplot as plt"
   ]
  },
  {
   "cell_type": "code",
   "execution_count": 58,
   "id": "e8746fe0",
   "metadata": {
    "ExecuteTime": {
     "end_time": "2022-07-12T04:42:36.997008Z",
     "start_time": "2022-07-12T04:42:36.272716Z"
    }
   },
   "outputs": [
    {
     "data": {
      "image/png": "[encoded data removed]",
      "text/plain": [
       "<Figure size 2000x1500 with 1 Axes>"
      ]
     },
     "metadata": {
      "needs_background": "light"
     },
     "output_type": "display_data"
    }
   ],
   "source": [
    "#对折线进行修饰\n",
    "#color设置为红色，alpha设置为透明度，linestyle表示线的样式，linewidth表示线的宽度\n",
    "#color还可以设置为16进制的色值，可在网上查看各种颜色对应的色值\n",
    "#plt.plot(x,y,color='red',alpha=0.5,linestyle='--',linewidth=1)\n",
    "\n",
    "plt.figure(figsize = (10, 7.5), dpi = 200) #调整画布大小，这一步要放到最开始\n",
    "\n",
    "plt.plot(df_datacount['date'], df_datacount['count']) #格式为plt.plot(x,y) #plot函数需要两个参数，一个是x一个是y\n",
    "plt.xlabel('date') #设置x坐标轴的名称\n",
    "plt.ylabel('count') #设置y坐标\n",
    "#挑选X轴的标签进行显示，两个方括号内的内容前后对应\n",
    "plt.xticks([\"2011-09-27\", \"2015-09-27\", \"2020-03-19\"], [\"2011-09-27\", \"2015-09-27\", \"2020-03-19\"])\n",
    "plt.title('Tweets count by Date') #添加标题\n",
    "\n",
    "#对某一个点进行注释，并将该点标记为红色 https://www.cnblogs.com/dqi1999/articles/14004235.html\n",
    "plt.annotate('1576', (\"2020-03-19\", 1576), xycoords = ('data'), xytext=(-36, -30), \n",
    "             textcoords='offset points', arrowprops=dict(arrowstyle='->'))\n",
    "#plt.scatter()函数解析 https://blog.csdn.net/qq_36387683/article/details/101378036\n",
    "plt.scatter(\"2020-03-19\", 1576, color = 'r', marker = 'o', s = 20)\n",
    "\n",
    "#展示图片\n",
    "plt.show()\n",
    "#plt.savefig('python初阶\\案例图片.png')"
   ]
  },
  {
   "cell_type": "code",
   "execution_count": null,
   "id": "8b2a77a7",
   "metadata": {},
   "outputs": [],
   "source": []
  }
 ],
 "metadata": {
  "kernelspec": {
   "display_name": "Python 3 (ipykernel)",
   "language": "python",
   "name": "python3"
  },
  "language_info": {
   "codemirror_mode": {
    "name": "ipython",
    "version": 3
   },
   "file_extension": ".py",
   "mimetype": "text/x-python",
   "name": "python",
   "nbconvert_exporter": "python",
   "pygments_lexer": "ipython3",
   "version": "3.9.7"
  },
  "varInspector": {
   "cols": {
    "lenName": 16,
    "lenType": 16,
    "lenVar": 40
   },
   "kernels_config": {
    "python": {
     "delete_cmd_postfix": "",
     "delete_cmd_prefix": "del ",
     "library": "var_list.py",
     "varRefreshCmd": "print(var_dic_list())"
    },
    "r": {
     "delete_cmd_postfix": ") ",
     "delete_cmd_prefix": "rm(",
     "library": "var_list.r",
     "varRefreshCmd": "cat(var_dic_list()) "
    }
   },
   "oldHeight": 403.852,
   "position": {
    "height": "40px",
    "left": "761px",
    "right": "20px",
    "top": "73px",
    "width": "593px"
   },
   "types_to_exclude": [
    "module",
    "function",
    "builtin_function_or_method",
    "instance",
    "_Feature"
   ],
   "varInspector_section_display": "none",
   "window_display": false
  }
 },
 "nbformat": 4,
 "nbformat_minor": 5
}
